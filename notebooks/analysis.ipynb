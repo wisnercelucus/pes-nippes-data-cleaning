{
 "cells": [
  {
   "cell_type": "code",
   "execution_count": 1,
   "id": "8b7ffb2a-c18e-49ab-8f97-291c083da7f2",
   "metadata": {},
   "outputs": [],
   "source": [
    "#Import the necessary modules\n",
    "\n",
    "import pandas as pd\n",
    "import numpy as np\n",
    "import matplotlib.pyplot as plt\n",
    "pd.options.mode.chained_assignment = None \n",
    "import seaborn as sns"
   ]
  },
  {
   "cell_type": "code",
   "execution_count": 2,
   "id": "0a08ab81-e037-4670-9ac2-6b6d10b28c31",
   "metadata": {},
   "outputs": [],
   "source": [
    "pd.set_option('display.max_colwidth', 20000)\n",
    "out_put_path = r'../datasets/baseline/output/'"
   ]
  },
  {
   "cell_type": "code",
   "execution_count": 3,
   "id": "4e931137-261b-44bb-bbd2-35072b856f20",
   "metadata": {},
   "outputs": [],
   "source": [
    "#Use os and sys to setup a relative path to the current working directory in order to make python modules import easier.\n",
    "import os\n",
    "import sys\n",
    "sys.path.append(os.path.join(os.path.dirname('__file__'), '..', 'utils'))"
   ]
  },
  {
   "cell_type": "code",
   "execution_count": 4,
   "id": "f2265b16-191a-45d6-9455-ec266675cda1",
   "metadata": {},
   "outputs": [],
   "source": [
    "#functions is a module from the utils package. It gathers all the utility functions to perferm aggregation on columns.\n",
    "from functions import *"
   ]
  },
  {
   "cell_type": "code",
   "execution_count": 5,
   "id": "27b762bf-2994-4b85-acda-fab63f295daf",
   "metadata": {},
   "outputs": [],
   "source": [
    "students_df = pd.read_csv(out_put_path + 'students_clean.csv', encoding=\"utf-8\")\n",
    "s_df = students_df.copy()\n",
    "s_df_f = s_df[s_df['Sex']=='Female']\n",
    "s_df_m = s_df[s_df['Sex']=='Male']\n",
    "\n",
    "fishers_df = pd.read_csv(out_put_path + 'fihsers_clean.csv', encoding=\"utf-8\")\n",
    "fi_df = fishers_df.copy()\n",
    "fi_df_f = fi_df[fi_df['Sex']=='Female']\n",
    "fi_df_m = fi_df[fi_df['Sex']=='Male']\n",
    "\n",
    "farmers_df = pd.read_csv(out_put_path + 'farmers_clean.csv', encoding=\"utf-8\")\n",
    "fa_df = farmers_df.copy()\n",
    "\n",
    "fa_df_f = fa_df[fa_df['Sex']=='Female']\n",
    "fa_df_m = fa_df[fa_df['Sex']=='Male']"
   ]
  },
  {
   "cell_type": "code",
   "execution_count": 6,
   "id": "682d6f0c-ed40-4ab5-af38-4cbac96cdd74",
   "metadata": {},
   "outputs": [
    {
     "name": "stdout",
     "output_type": "stream",
     "text": [
      "(157, 32)\n",
      "(92, 32)\n",
      "(65, 32)\n"
     ]
    }
   ],
   "source": [
    "print(students_df.shape)\n",
    "print(s_df_f.shape)\n",
    "print(s_df_m.shape)"
   ]
  },
  {
   "cell_type": "code",
   "execution_count": 7,
   "id": "5575563c-4c73-4560-8f92-66a67f26e6ff",
   "metadata": {},
   "outputs": [],
   "source": [
    "#fa_df_f.head(21)"
   ]
  },
  {
   "cell_type": "code",
   "execution_count": 8,
   "id": "75043169-5670-4bd5-9751-a3957d78972a",
   "metadata": {},
   "outputs": [
    {
     "name": "stdout",
     "output_type": "stream",
     "text": [
      "(44, 28)\n",
      "(2, 28)\n",
      "(42, 28)\n"
     ]
    }
   ],
   "source": [
    "print(fishers_df.shape)\n",
    "print(fi_df_f.shape)\n",
    "print(fi_df_m.shape)"
   ]
  },
  {
   "cell_type": "code",
   "execution_count": 9,
   "id": "60b54db0-b91f-47b4-b5a8-c1a5c5412fb7",
   "metadata": {},
   "outputs": [
    {
     "name": "stdout",
     "output_type": "stream",
     "text": [
      "(111, 34)\n",
      "(21, 34)\n",
      "(89, 34)\n"
     ]
    }
   ],
   "source": [
    "print(farmers_df.shape)\n",
    "print(fa_df_f.shape)\n",
    "print(fa_df_m.shape)"
   ]
  },
  {
   "cell_type": "code",
   "execution_count": 10,
   "id": "873f4749-5871-475f-bbc0-cda08d434b02",
   "metadata": {},
   "outputs": [],
   "source": [
    "s_ages_df_m = count_freq_simple_answer(s_df_m, 'Age interval')\n",
    "s_ages_df_f = count_freq_simple_answer(s_df_f, 'Age interval')\n",
    "s_ages_df = None\n",
    "\n",
    "if s_ages_df_m.shape[0] >= s_ages_df_f.shape[0]:  \n",
    "    s_ages_df = merge_match_size(s_ages_df_m, s_ages_df_f, 'response').sort_values(by='response')\n",
    "    s_men_ages_values = list(s_ages_df[\"frequency_x\"])\n",
    "    s_women_ages_values = list(s_ages_df[\"frequency_y\"])\n",
    "else:\n",
    "    s_ages_df = merge_match_size(s_ages_df_f, s_ages_df_m, 'response').sort_values(by='response')\n",
    "    s_women_ages_values = list(s_ages_df[\"frequency_x\"])\n",
    "    s_men_ages_values = list(s_ages_df[\"frequency_y\"])\n",
    "    \n",
    "s_ages_interval = list(s_ages_df[\"response\"])"
   ]
  },
  {
   "cell_type": "code",
   "execution_count": 11,
   "id": "f6f92113-ecd1-480d-bbb5-6de7f19163f1",
   "metadata": {},
   "outputs": [
    {
     "data": {
      "text/html": [
       "<div>\n",
       "<style scoped>\n",
       "    .dataframe tbody tr th:only-of-type {\n",
       "        vertical-align: middle;\n",
       "    }\n",
       "\n",
       "    .dataframe tbody tr th {\n",
       "        vertical-align: top;\n",
       "    }\n",
       "\n",
       "    .dataframe thead th {\n",
       "        text-align: right;\n",
       "    }\n",
       "</style>\n",
       "<table border=\"1\" class=\"dataframe\">\n",
       "  <thead>\n",
       "    <tr style=\"text-align: right;\">\n",
       "      <th></th>\n",
       "      <th>response</th>\n",
       "      <th>frequency_x</th>\n",
       "      <th>frequency_y</th>\n",
       "    </tr>\n",
       "  </thead>\n",
       "  <tbody>\n",
       "    <tr>\n",
       "      <th>2</th>\n",
       "      <td>From 12 to 15</td>\n",
       "      <td>20</td>\n",
       "      <td>35</td>\n",
       "    </tr>\n",
       "    <tr>\n",
       "      <th>1</th>\n",
       "      <td>From 15 to 20</td>\n",
       "      <td>33</td>\n",
       "      <td>34</td>\n",
       "    </tr>\n",
       "    <tr>\n",
       "      <th>3</th>\n",
       "      <td>Greater than 20</td>\n",
       "      <td>4</td>\n",
       "      <td>4</td>\n",
       "    </tr>\n",
       "    <tr>\n",
       "      <th>0</th>\n",
       "      <td>Less than 12</td>\n",
       "      <td>8</td>\n",
       "      <td>19</td>\n",
       "    </tr>\n",
       "  </tbody>\n",
       "</table>\n",
       "</div>"
      ],
      "text/plain": [
       "          response  frequency_x  frequency_y\n",
       "2    From 12 to 15           20           35\n",
       "1    From 15 to 20           33           34\n",
       "3  Greater than 20            4            4\n",
       "0     Less than 12            8           19"
      ]
     },
     "execution_count": 11,
     "metadata": {},
     "output_type": "execute_result"
    }
   ],
   "source": [
    "s_ages_df"
   ]
  },
  {
   "cell_type": "code",
   "execution_count": 12,
   "id": "44034c03-321d-452c-93d9-d71aa76c11c6",
   "metadata": {},
   "outputs": [],
   "source": [
    "fi_ages_df_m = count_freq_simple_answer(fi_df_m, 'Age interval')\n",
    "fi_ages_df_f = count_freq_simple_answer(fi_df_f, 'Age interval')\n",
    "fi_ages_df = None\n",
    "\n",
    "if fi_ages_df_m.shape[0] >= fi_ages_df_f.shape[0]:  \n",
    "    fi_ages_df = merge_match_size(fi_ages_df_m, fi_ages_df_f, 'response').sort_values(by='response')\n",
    "    fi_men_ages_values = list(fi_ages_df[\"frequency_x\"])\n",
    "    fi_women_ages_values = list(fi_ages_df[\"frequency_y\"])\n",
    "else:\n",
    "    fi_ages_df = merge_match_size(fi_ages_df_f, fi_ages_df_m, 'response').sort_values(by='response')\n",
    "    fi_women_ages_values = list(fi_ages_df[\"frequency_x\"])\n",
    "    fi_men_ages_values = list(fi_ages_df[\"frequency_y\"])\n",
    "    \n",
    "fi_ages_interval = list(fi_ages_df[\"response\"])"
   ]
  },
  {
   "cell_type": "code",
   "execution_count": 13,
   "id": "fa8121fb-e46b-4239-a22d-778e59b53ebc",
   "metadata": {},
   "outputs": [
    {
     "data": {
      "text/html": [
       "<div>\n",
       "<style scoped>\n",
       "    .dataframe tbody tr th:only-of-type {\n",
       "        vertical-align: middle;\n",
       "    }\n",
       "\n",
       "    .dataframe tbody tr th {\n",
       "        vertical-align: top;\n",
       "    }\n",
       "\n",
       "    .dataframe thead th {\n",
       "        text-align: right;\n",
       "    }\n",
       "</style>\n",
       "<table border=\"1\" class=\"dataframe\">\n",
       "  <thead>\n",
       "    <tr style=\"text-align: right;\">\n",
       "      <th></th>\n",
       "      <th>response</th>\n",
       "      <th>frequency_x</th>\n",
       "      <th>frequency_y</th>\n",
       "    </tr>\n",
       "  </thead>\n",
       "  <tbody>\n",
       "    <tr>\n",
       "      <th>3</th>\n",
       "      <td>From 25 to 35</td>\n",
       "      <td>8</td>\n",
       "      <td>1.0</td>\n",
       "    </tr>\n",
       "    <tr>\n",
       "      <th>1</th>\n",
       "      <td>From 35 to 25</td>\n",
       "      <td>19</td>\n",
       "      <td>1.0</td>\n",
       "    </tr>\n",
       "    <tr>\n",
       "      <th>0</th>\n",
       "      <td>Greater than 55</td>\n",
       "      <td>13</td>\n",
       "      <td>0.0</td>\n",
       "    </tr>\n",
       "    <tr>\n",
       "      <th>2</th>\n",
       "      <td>Less than 25</td>\n",
       "      <td>2</td>\n",
       "      <td>0.0</td>\n",
       "    </tr>\n",
       "  </tbody>\n",
       "</table>\n",
       "</div>"
      ],
      "text/plain": [
       "          response  frequency_x  frequency_y\n",
       "3    From 25 to 35            8          1.0\n",
       "1    From 35 to 25           19          1.0\n",
       "0  Greater than 55           13          0.0\n",
       "2     Less than 25            2          0.0"
      ]
     },
     "execution_count": 13,
     "metadata": {},
     "output_type": "execute_result"
    }
   ],
   "source": [
    "fi_ages_df"
   ]
  },
  {
   "cell_type": "code",
   "execution_count": 14,
   "id": "f1085924-a08b-4ccb-836b-0d421ea6f1b9",
   "metadata": {},
   "outputs": [],
   "source": [
    "fa_ages_df_m = count_freq_simple_answer(fa_df_m, 'Age interval')\n",
    "fa_ages_df_f = count_freq_simple_answer(fa_df_f, 'Age interval')\n",
    "fa_ages_df = None\n",
    "\n",
    "if fa_ages_df_m.shape[0] >= fa_ages_df_f.shape[0]:  \n",
    "    fa_ages_df = merge_match_size(fa_ages_df_m, fa_ages_df_f, 'response').sort_values(by='response')\n",
    "    fa_men_ages_values = list(fa_ages_df[\"frequency_x\"])\n",
    "    fa_women_ages_values = list(fa_ages_df[\"frequency_y\"])\n",
    "else:\n",
    "    fa_ages_df = merge_match_size(fa_ages_df_f, fa_ages_df_m, 'response').sort_values(by='response')\n",
    "    fa_women_ages_values = list(fa_ages_df[\"frequency_x\"])\n",
    "    fa_men_ages_values = list(fa_ages_df[\"frequency_y\"])\n",
    "    \n",
    "fa_ages_interval = list(fa_ages_df[\"response\"])"
   ]
  },
  {
   "cell_type": "code",
   "execution_count": 15,
   "id": "458f46b2-30b1-406a-8cfe-00a6f75dd281",
   "metadata": {},
   "outputs": [
    {
     "data": {
      "text/html": [
       "<div>\n",
       "<style scoped>\n",
       "    .dataframe tbody tr th:only-of-type {\n",
       "        vertical-align: middle;\n",
       "    }\n",
       "\n",
       "    .dataframe tbody tr th {\n",
       "        vertical-align: top;\n",
       "    }\n",
       "\n",
       "    .dataframe thead th {\n",
       "        text-align: right;\n",
       "    }\n",
       "</style>\n",
       "<table border=\"1\" class=\"dataframe\">\n",
       "  <thead>\n",
       "    <tr style=\"text-align: right;\">\n",
       "      <th></th>\n",
       "      <th>response</th>\n",
       "      <th>frequency_x</th>\n",
       "      <th>frequency_y</th>\n",
       "    </tr>\n",
       "  </thead>\n",
       "  <tbody>\n",
       "    <tr>\n",
       "      <th>1</th>\n",
       "      <td>From 25 to 35</td>\n",
       "      <td>18</td>\n",
       "      <td>5.0</td>\n",
       "    </tr>\n",
       "    <tr>\n",
       "      <th>0</th>\n",
       "      <td>From 35 to 25</td>\n",
       "      <td>49</td>\n",
       "      <td>10.0</td>\n",
       "    </tr>\n",
       "    <tr>\n",
       "      <th>2</th>\n",
       "      <td>Greater than 55</td>\n",
       "      <td>19</td>\n",
       "      <td>6.0</td>\n",
       "    </tr>\n",
       "    <tr>\n",
       "      <th>3</th>\n",
       "      <td>Less than 25</td>\n",
       "      <td>3</td>\n",
       "      <td>0.0</td>\n",
       "    </tr>\n",
       "  </tbody>\n",
       "</table>\n",
       "</div>"
      ],
      "text/plain": [
       "          response  frequency_x  frequency_y\n",
       "1    From 25 to 35           18          5.0\n",
       "0    From 35 to 25           49         10.0\n",
       "2  Greater than 55           19          6.0\n",
       "3     Less than 25            3          0.0"
      ]
     },
     "execution_count": 15,
     "metadata": {},
     "output_type": "execute_result"
    }
   ],
   "source": [
    "fa_ages_df"
   ]
  },
  {
   "cell_type": "code",
   "execution_count": 16,
   "id": "bb4e9ea1-1b83-4b04-b440-3815d078b871",
   "metadata": {},
   "outputs": [],
   "source": [
    "sns.set(rc={'figure.figsize':(16,4)})\n",
    "sns.set_context('paper')"
   ]
  },
  {
   "cell_type": "code",
   "execution_count": 17,
   "id": "fe97a0bf-0922-42ca-b3a4-e2675a14e700",
   "metadata": {},
   "outputs": [
    {
     "data": {
      "image/png": "[encoded data removed]",
      "text/plain": [
       "<Figure size 1152x288 with 3 Axes>"
      ]
     },
     "metadata": {},
     "output_type": "display_data"
    }
   ],
   "source": [
    "# Fixing random state for reproducibility\n",
    "\n",
    "fig, ax = plt.subplots(1, 3, sharey=False)\n",
    "width = 0.35\n",
    "\n",
    "ax1 = ax[0]\n",
    "ax2 = ax[1]\n",
    "ax3 = ax[2]\n",
    "\n",
    "#Plot Students\n",
    "s_y_pos = np.arange(len(s_ages_interval))\n",
    "s_rects_f = ax1.barh(s_y_pos - width/2, s_women_ages_values, width, align='center', label=f'Female (n1=%s)' % s_df_f.shape[0])\n",
    "s_rects_m = ax1.barh(s_y_pos + width/2, s_men_ages_values, width, align='center', label=f'Male (n2=%s)' % s_df_m.shape[0])\n",
    "ax1.legend()\n",
    "ax1.set_yticks(s_y_pos)\n",
    "ax1.set_yticklabels(s_ages_interval)\n",
    "ax1.set_title('# of students per age group (N=%s)' % s_df.shape[0])\n",
    "ax1.set_ylabel('Age groups')\n",
    "ax1.set_xlabel('Frequencies')\n",
    "ax1.bar_label(s_rects_f, padding=3)\n",
    "ax1.bar_label(s_rects_m, padding=3)\n",
    "ax1.tick_params(\n",
    "    axis='x',          # changes apply to the x-axis\n",
    "    which='both',      # both major and minor ticks are affected\n",
    "    bottom=False,      # ticks along the bottom edge are off\n",
    "    top=False,         # ticks along the top edge are off\n",
    "    labelbottom=False)\n",
    "\n",
    "\n",
    "#Plot Fishers\n",
    "fi_y_pos = np.arange(len(fi_ages_interval))\n",
    "fi_rects_f = ax2.barh(fi_y_pos - width/2, fi_women_ages_values, width, align='center', label=f'Female (n1=%s)' % fi_df_f.shape[0])\n",
    "fi_rects_m = ax2.barh(fi_y_pos + width/2, fi_men_ages_values, width, align='center', label=f'Male (n2=%s)' % fi_df_m.shape[0])\n",
    "ax2.legend()\n",
    "ax2.set_yticks(fi_y_pos)\n",
    "ax2.set_yticklabels(fi_ages_interval)\n",
    "ax2.set_title('# of fishers per age group (N=%s)' % fi_df.shape[0])\n",
    "#ax2.set_ylabel('Age groups')\n",
    "ax2.set_xlabel('Frequencies')\n",
    "ax2.bar_label(fi_rects_f, padding=3)\n",
    "ax2.bar_label(fi_rects_m, padding=3)\n",
    "ax2.tick_params(\n",
    "    axis='x',          # changes apply to the x-axis\n",
    "    which='both',      # both major and minor ticks are affected\n",
    "    bottom=False,      # ticks along the bottom edge are off\n",
    "    top=False,         # ticks along the top edge are off\n",
    "    labelbottom=False)\n",
    "\n",
    "\n",
    "\n",
    "#Plot Fishers\n",
    "fa_y_pos = np.arange(len(fa_ages_interval))\n",
    "fa_rects_f = ax3.barh(fa_y_pos - width/2, fa_women_ages_values, width, align='center', label=f'Female (n1=%s)' % fa_df_f.shape[0])\n",
    "fa_rects_m = ax3.barh(fa_y_pos + width/2, fa_men_ages_values, width, align='center', label=f'Male (n2=%s)' % fa_df_m.shape[0])\n",
    "ax3.legend()\n",
    "ax3.set_yticks(fa_y_pos)\n",
    "ax3.set_yticklabels(fa_ages_interval)\n",
    "ax3.set_title('# of farmers per age group (N=%s)' % fa_df.shape[0])\n",
    "#ax2.set_ylabel('Age groups')\n",
    "ax3.set_xlabel('Frequencies')\n",
    "ax3.bar_label(fa_rects_f, padding=3)\n",
    "ax3.bar_label(fa_rects_m, padding=3)\n",
    "ax3.tick_params(\n",
    "    axis='x',          # changes apply to the x-axis\n",
    "    which='both',      # both major and minor ticks are affected\n",
    "    bottom=False,      # ticks along the bottom edge are off\n",
    "    top=False,         # ticks along the top edge are off\n",
    "    labelbottom=False)\n",
    "\n",
    "\n",
    "fig.tight_layout()\n",
    "plt.show()"
   ]
  },
  {
   "cell_type": "code",
   "execution_count": 18,
   "id": "e3e04c07-1698-4bb9-bfa0-bbf7a20a88b0",
   "metadata": {},
   "outputs": [],
   "source": [
    "n = [ 8, 8, 9, 9]"
   ]
  },
  {
   "cell_type": "code",
   "execution_count": 19,
   "id": "0a3cdb7c-eff5-4738-8c85-4cf99b445237",
   "metadata": {},
   "outputs": [
    {
     "name": "stdout",
     "output_type": "stream",
     "text": [
      "0\n",
      "1\n",
      "2\n",
      "3\n"
     ]
    }
   ],
   "source": [
    "for i, v in enumerate(n):\n",
    "    print(i)"
   ]
  },
  {
   "cell_type": "code",
   "execution_count": 20,
   "id": "74a3efb8-a947-458d-8b37-02fab4ebfca4",
   "metadata": {},
   "outputs": [
    {
     "data": {
      "text/plain": [
       "[(2, 'To'), (5, 'Ta')]"
      ]
     },
     "execution_count": 20,
     "metadata": {},
     "output_type": "execute_result"
    }
   ],
   "source": [
    "l = [2, 5]\n",
    "\n",
    "names = ['To', 'Ta', 'Pee', 'Pow']\n",
    "\n",
    "list(zip(l, names))"
   ]
  },
  {
   "cell_type": "code",
   "execution_count": null,
   "id": "63bca47a-56d3-438a-802b-31e86275be4b",
   "metadata": {},
   "outputs": [],
   "source": []
  }
 ],
 "metadata": {
  "kernelspec": {
   "display_name": "Python 3",
   "language": "python",
   "name": "python3"
  },
  "language_info": {
   "codemirror_mode": {
    "name": "ipython",
    "version": 3
   },
   "file_extension": ".py",
   "mimetype": "text/x-python",
   "name": "python",
   "nbconvert_exporter": "python",
   "pygments_lexer": "ipython3",
   "version": "3.8.3"
  }
 },
 "nbformat": 4,
 "nbformat_minor": 5
}
