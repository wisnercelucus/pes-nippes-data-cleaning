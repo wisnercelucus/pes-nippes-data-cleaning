{
 "cells": [
  {
   "cell_type": "code",
   "execution_count": 1,
   "id": "16a598af-33f9-4474-bd71-62c8f3d7a0cf",
   "metadata": {},
   "outputs": [],
   "source": [
    "import numpy as np\n",
    "import pandas as pd\n",
    "import seaborn as sns\n",
    "import matplotlib.dates as mdates\n",
    "import datetime as dt\n",
    "import matplotlib.pyplot as plt\n",
    "from scipy.stats import pearsonr as pr"
   ]
  },
  {
   "cell_type": "code",
   "execution_count": 2,
   "id": "717a3328-7d5b-44c6-8da2-1e461775a1e3",
   "metadata": {},
   "outputs": [],
   "source": [
    "#Load temperature data and convert dates to date object\n",
    "meteo = pd.read_csv(\"./meteo_Guyane.csv\")\n",
    "indice = pd.read_csv(\"./indices_Guyane.csv\")\n",
    "#meteo.columns = ['Date','temp']"
   ]
  },
  {
   "cell_type": "code",
   "execution_count": 3,
   "id": "e3276218-d512-4e69-b125-9648c655e4ad",
   "metadata": {},
   "outputs": [
    {
     "data": {
      "text/html": [
       "<div>\n",
       "<style scoped>\n",
       "    .dataframe tbody tr th:only-of-type {\n",
       "        vertical-align: middle;\n",
       "    }\n",
       "\n",
       "    .dataframe tbody tr th {\n",
       "        vertical-align: top;\n",
       "    }\n",
       "\n",
       "    .dataframe thead th {\n",
       "        text-align: right;\n",
       "    }\n",
       "</style>\n",
       "<table border=\"1\" class=\"dataframe\">\n",
       "  <thead>\n",
       "    <tr style=\"text-align: right;\">\n",
       "      <th></th>\n",
       "      <th>system:time_start</th>\n",
       "      <th>ARVI</th>\n",
       "      <th>EVI</th>\n",
       "      <th>NDVI</th>\n",
       "      <th>NDWI</th>\n",
       "    </tr>\n",
       "  </thead>\n",
       "  <tbody>\n",
       "    <tr>\n",
       "      <th>0</th>\n",
       "      <td>January 1, 2018</td>\n",
       "      <td>0.578</td>\n",
       "      <td>0.396</td>\n",
       "      <td>0.371</td>\n",
       "      <td>0.309</td>\n",
       "    </tr>\n",
       "    <tr>\n",
       "      <th>1</th>\n",
       "      <td>February 1, 2018</td>\n",
       "      <td>0.721</td>\n",
       "      <td>0.446</td>\n",
       "      <td>0.483</td>\n",
       "      <td>0.371</td>\n",
       "    </tr>\n",
       "    <tr>\n",
       "      <th>2</th>\n",
       "      <td>March 1, 2018</td>\n",
       "      <td>0.687</td>\n",
       "      <td>0.475</td>\n",
       "      <td>0.479</td>\n",
       "      <td>0.341</td>\n",
       "    </tr>\n",
       "    <tr>\n",
       "      <th>3</th>\n",
       "      <td>April 1, 2018</td>\n",
       "      <td>0.607</td>\n",
       "      <td>0.450</td>\n",
       "      <td>0.415</td>\n",
       "      <td>0.318</td>\n",
       "    </tr>\n",
       "    <tr>\n",
       "      <th>4</th>\n",
       "      <td>May 1, 2018</td>\n",
       "      <td>0.588</td>\n",
       "      <td>0.436</td>\n",
       "      <td>0.403</td>\n",
       "      <td>0.289</td>\n",
       "    </tr>\n",
       "  </tbody>\n",
       "</table>\n",
       "</div>"
      ],
      "text/plain": [
       "  system:time_start   ARVI    EVI   NDVI   NDWI\n",
       "0   January 1, 2018  0.578  0.396  0.371  0.309\n",
       "1  February 1, 2018  0.721  0.446  0.483  0.371\n",
       "2     March 1, 2018  0.687  0.475  0.479  0.341\n",
       "3     April 1, 2018  0.607  0.450  0.415  0.318\n",
       "4       May 1, 2018  0.588  0.436  0.403  0.289"
      ]
     },
     "execution_count": 3,
     "metadata": {},
     "output_type": "execute_result"
    }
   ],
   "source": [
    "indice.head()"
   ]
  },
  {
   "cell_type": "code",
   "execution_count": 4,
   "id": "63710b00-7050-4c72-ab66-9808c7fc3acb",
   "metadata": {},
   "outputs": [
    {
     "data": {
      "text/html": [
       "<div>\n",
       "<style scoped>\n",
       "    .dataframe tbody tr th:only-of-type {\n",
       "        vertical-align: middle;\n",
       "    }\n",
       "\n",
       "    .dataframe tbody tr th {\n",
       "        vertical-align: top;\n",
       "    }\n",
       "\n",
       "    .dataframe thead th {\n",
       "        text-align: right;\n",
       "    }\n",
       "</style>\n",
       "<table border=\"1\" class=\"dataframe\">\n",
       "  <thead>\n",
       "    <tr style=\"text-align: right;\">\n",
       "      <th></th>\n",
       "      <th>system:time_start</th>\n",
       "      <th>ARVI</th>\n",
       "      <th>EVI</th>\n",
       "      <th>NDVI</th>\n",
       "      <th>NDWI</th>\n",
       "    </tr>\n",
       "  </thead>\n",
       "  <tbody>\n",
       "    <tr>\n",
       "      <th>25</th>\n",
       "      <td>February 1, 2020</td>\n",
       "      <td>0.721</td>\n",
       "      <td>0.465</td>\n",
       "      <td>0.491</td>\n",
       "      <td>0.376</td>\n",
       "    </tr>\n",
       "    <tr>\n",
       "      <th>26</th>\n",
       "      <td>March 1, 2020</td>\n",
       "      <td>0.638</td>\n",
       "      <td>0.447</td>\n",
       "      <td>0.430</td>\n",
       "      <td>0.318</td>\n",
       "    </tr>\n",
       "    <tr>\n",
       "      <th>27</th>\n",
       "      <td>April 1, 2020</td>\n",
       "      <td>0.527</td>\n",
       "      <td>0.407</td>\n",
       "      <td>0.348</td>\n",
       "      <td>0.273</td>\n",
       "    </tr>\n",
       "    <tr>\n",
       "      <th>28</th>\n",
       "      <td>May 1, 2020</td>\n",
       "      <td>0.642</td>\n",
       "      <td>0.435</td>\n",
       "      <td>0.406</td>\n",
       "      <td>0.335</td>\n",
       "    </tr>\n",
       "    <tr>\n",
       "      <th>29</th>\n",
       "      <td>June 1, 2020</td>\n",
       "      <td>0.771</td>\n",
       "      <td>0.478</td>\n",
       "      <td>0.494</td>\n",
       "      <td>0.369</td>\n",
       "    </tr>\n",
       "  </tbody>\n",
       "</table>\n",
       "</div>"
      ],
      "text/plain": [
       "   system:time_start   ARVI    EVI   NDVI   NDWI\n",
       "25  February 1, 2020  0.721  0.465  0.491  0.376\n",
       "26     March 1, 2020  0.638  0.447  0.430  0.318\n",
       "27     April 1, 2020  0.527  0.407  0.348  0.273\n",
       "28       May 1, 2020  0.642  0.435  0.406  0.335\n",
       "29      June 1, 2020  0.771  0.478  0.494  0.369"
      ]
     },
     "execution_count": 4,
     "metadata": {},
     "output_type": "execute_result"
    }
   ],
   "source": [
    "indice.tail()"
   ]
  },
  {
   "cell_type": "code",
   "execution_count": 5,
   "id": "dc670873-1007-4e98-b403-ab574714c208",
   "metadata": {},
   "outputs": [
    {
     "data": {
      "text/html": [
       "<div>\n",
       "<style scoped>\n",
       "    .dataframe tbody tr th:only-of-type {\n",
       "        vertical-align: middle;\n",
       "    }\n",
       "\n",
       "    .dataframe tbody tr th {\n",
       "        vertical-align: top;\n",
       "    }\n",
       "\n",
       "    .dataframe thead th {\n",
       "        text-align: right;\n",
       "    }\n",
       "</style>\n",
       "<table border=\"1\" class=\"dataframe\">\n",
       "  <thead>\n",
       "    <tr style=\"text-align: right;\">\n",
       "      <th></th>\n",
       "      <th>system:time_start</th>\n",
       "      <th>mean_2m_air_temperature</th>\n",
       "      <th>total_precipitation</th>\n",
       "    </tr>\n",
       "  </thead>\n",
       "  <tbody>\n",
       "    <tr>\n",
       "      <th>0</th>\n",
       "      <td>Jan 1, 2018</td>\n",
       "      <td>25.713</td>\n",
       "      <td>NaN</td>\n",
       "    </tr>\n",
       "    <tr>\n",
       "      <th>1</th>\n",
       "      <td>Jan 1, 2018</td>\n",
       "      <td>NaN</td>\n",
       "      <td>276.914</td>\n",
       "    </tr>\n",
       "    <tr>\n",
       "      <th>2</th>\n",
       "      <td>Feb 1, 2018</td>\n",
       "      <td>25.415</td>\n",
       "      <td>NaN</td>\n",
       "    </tr>\n",
       "    <tr>\n",
       "      <th>3</th>\n",
       "      <td>Feb 1, 2018</td>\n",
       "      <td>NaN</td>\n",
       "      <td>313.633</td>\n",
       "    </tr>\n",
       "    <tr>\n",
       "      <th>4</th>\n",
       "      <td>Mar 1, 2018</td>\n",
       "      <td>26.098</td>\n",
       "      <td>NaN</td>\n",
       "    </tr>\n",
       "  </tbody>\n",
       "</table>\n",
       "</div>"
      ],
      "text/plain": [
       "  system:time_start  mean_2m_air_temperature  total_precipitation\n",
       "0       Jan 1, 2018                   25.713                  NaN\n",
       "1       Jan 1, 2018                      NaN              276.914\n",
       "2       Feb 1, 2018                   25.415                  NaN\n",
       "3       Feb 1, 2018                      NaN              313.633\n",
       "4       Mar 1, 2018                   26.098                  NaN"
      ]
     },
     "execution_count": 5,
     "metadata": {},
     "output_type": "execute_result"
    }
   ],
   "source": [
    "meteo.head()"
   ]
  },
  {
   "cell_type": "code",
   "execution_count": 6,
   "id": "afd2b34f-23bc-435a-8674-567481e57091",
   "metadata": {},
   "outputs": [],
   "source": [
    "meteo.columns = ['date','temperature', 'precipitation']\n",
    "#meteo['Date'] = [dt.datetime.strptime(d,'%b %d, %Y').date() for d in temp['Date']]"
   ]
  },
  {
   "cell_type": "code",
   "execution_count": 7,
   "id": "b0dbe427-f89b-4dfe-936a-e2505442929c",
   "metadata": {},
   "outputs": [],
   "source": [
    "indice.columns = ['date','ARVI', 'EVI', 'NDVI', 'NDWI']\n",
    "indice['date'] = [dt.datetime.strptime(d,'%B %d, %Y').date() for d in indice['date']]"
   ]
  },
  {
   "cell_type": "code",
   "execution_count": 8,
   "id": "da780bda-7f99-4a81-8750-7ab733b4417c",
   "metadata": {},
   "outputs": [],
   "source": [
    "indice_df= indice.copy()"
   ]
  },
  {
   "cell_type": "code",
   "execution_count": 9,
   "id": "b7ce7fd3-ff03-4bc0-ab0d-ba8cc5c7e303",
   "metadata": {},
   "outputs": [],
   "source": [
    "indice_df=indice_df.set_index('date')"
   ]
  },
  {
   "cell_type": "code",
   "execution_count": null,
   "id": "9014d2b3-a981-4cd7-a3a1-358da2fde3e9",
   "metadata": {},
   "outputs": [],
   "source": []
  },
  {
   "cell_type": "code",
   "execution_count": 10,
   "id": "eabaeff8-e746-47ff-b279-91910f256929",
   "metadata": {},
   "outputs": [
    {
     "data": {
      "text/html": [
       "<div>\n",
       "<style scoped>\n",
       "    .dataframe tbody tr th:only-of-type {\n",
       "        vertical-align: middle;\n",
       "    }\n",
       "\n",
       "    .dataframe tbody tr th {\n",
       "        vertical-align: top;\n",
       "    }\n",
       "\n",
       "    .dataframe thead th {\n",
       "        text-align: right;\n",
       "    }\n",
       "</style>\n",
       "<table border=\"1\" class=\"dataframe\">\n",
       "  <thead>\n",
       "    <tr style=\"text-align: right;\">\n",
       "      <th></th>\n",
       "      <th>date</th>\n",
       "      <th>ARVI</th>\n",
       "      <th>EVI</th>\n",
       "      <th>NDVI</th>\n",
       "      <th>NDWI</th>\n",
       "    </tr>\n",
       "  </thead>\n",
       "  <tbody>\n",
       "    <tr>\n",
       "      <th>0</th>\n",
       "      <td>2018-01-01</td>\n",
       "      <td>0.578</td>\n",
       "      <td>0.396</td>\n",
       "      <td>0.371</td>\n",
       "      <td>0.309</td>\n",
       "    </tr>\n",
       "    <tr>\n",
       "      <th>1</th>\n",
       "      <td>2018-02-01</td>\n",
       "      <td>0.721</td>\n",
       "      <td>0.446</td>\n",
       "      <td>0.483</td>\n",
       "      <td>0.371</td>\n",
       "    </tr>\n",
       "    <tr>\n",
       "      <th>2</th>\n",
       "      <td>2018-03-01</td>\n",
       "      <td>0.687</td>\n",
       "      <td>0.475</td>\n",
       "      <td>0.479</td>\n",
       "      <td>0.341</td>\n",
       "    </tr>\n",
       "    <tr>\n",
       "      <th>3</th>\n",
       "      <td>2018-04-01</td>\n",
       "      <td>0.607</td>\n",
       "      <td>0.450</td>\n",
       "      <td>0.415</td>\n",
       "      <td>0.318</td>\n",
       "    </tr>\n",
       "    <tr>\n",
       "      <th>4</th>\n",
       "      <td>2018-05-01</td>\n",
       "      <td>0.588</td>\n",
       "      <td>0.436</td>\n",
       "      <td>0.403</td>\n",
       "      <td>0.289</td>\n",
       "    </tr>\n",
       "  </tbody>\n",
       "</table>\n",
       "</div>"
      ],
      "text/plain": [
       "         date   ARVI    EVI   NDVI   NDWI\n",
       "0  2018-01-01  0.578  0.396  0.371  0.309\n",
       "1  2018-02-01  0.721  0.446  0.483  0.371\n",
       "2  2018-03-01  0.687  0.475  0.479  0.341\n",
       "3  2018-04-01  0.607  0.450  0.415  0.318\n",
       "4  2018-05-01  0.588  0.436  0.403  0.289"
      ]
     },
     "execution_count": 10,
     "metadata": {},
     "output_type": "execute_result"
    }
   ],
   "source": [
    "indice.head()"
   ]
  },
  {
   "cell_type": "code",
   "execution_count": 11,
   "id": "cd036ef7-9fb3-4415-aadc-805881b4995e",
   "metadata": {},
   "outputs": [
    {
     "data": {
      "text/html": [
       "<div>\n",
       "<style scoped>\n",
       "    .dataframe tbody tr th:only-of-type {\n",
       "        vertical-align: middle;\n",
       "    }\n",
       "\n",
       "    .dataframe tbody tr th {\n",
       "        vertical-align: top;\n",
       "    }\n",
       "\n",
       "    .dataframe thead th {\n",
       "        text-align: right;\n",
       "    }\n",
       "</style>\n",
       "<table border=\"1\" class=\"dataframe\">\n",
       "  <thead>\n",
       "    <tr style=\"text-align: right;\">\n",
       "      <th></th>\n",
       "      <th>date</th>\n",
       "      <th>temperature</th>\n",
       "      <th>precipitation</th>\n",
       "    </tr>\n",
       "  </thead>\n",
       "  <tbody>\n",
       "    <tr>\n",
       "      <th>0</th>\n",
       "      <td>Jan 1, 2018</td>\n",
       "      <td>25.713</td>\n",
       "      <td>NaN</td>\n",
       "    </tr>\n",
       "    <tr>\n",
       "      <th>1</th>\n",
       "      <td>Jan 1, 2018</td>\n",
       "      <td>NaN</td>\n",
       "      <td>276.914</td>\n",
       "    </tr>\n",
       "  </tbody>\n",
       "</table>\n",
       "</div>"
      ],
      "text/plain": [
       "          date  temperature  precipitation\n",
       "0  Jan 1, 2018       25.713            NaN\n",
       "1  Jan 1, 2018          NaN        276.914"
      ]
     },
     "execution_count": 11,
     "metadata": {},
     "output_type": "execute_result"
    }
   ],
   "source": [
    "meteo.head(2)"
   ]
  },
  {
   "cell_type": "code",
   "execution_count": 12,
   "id": "00edad6f-66e7-4156-98cf-a4db3da57ed4",
   "metadata": {},
   "outputs": [
    {
     "data": {
      "text/plain": [
       "(60, 3)"
      ]
     },
     "execution_count": 12,
     "metadata": {},
     "output_type": "execute_result"
    }
   ],
   "source": [
    "meteo.shape"
   ]
  },
  {
   "cell_type": "code",
   "execution_count": 13,
   "id": "b5d36444-3bc2-48ab-92cf-7ed7402844b8",
   "metadata": {},
   "outputs": [],
   "source": [
    "meteo_temp= meteo[[\"date\", \"temperature\"]]"
   ]
  },
  {
   "cell_type": "code",
   "execution_count": 14,
   "id": "aa258a6b-c24d-4768-aad2-87e2049de5fb",
   "metadata": {},
   "outputs": [
    {
     "data": {
      "text/plain": [
       "(60, 2)"
      ]
     },
     "execution_count": 14,
     "metadata": {},
     "output_type": "execute_result"
    }
   ],
   "source": [
    "meteo_temp.shape"
   ]
  },
  {
   "cell_type": "code",
   "execution_count": 15,
   "id": "1fcf6377-bc26-47f2-8d80-7a65ea3a8505",
   "metadata": {},
   "outputs": [],
   "source": [
    "meteo_temp=meteo_temp.dropna()"
   ]
  },
  {
   "cell_type": "code",
   "execution_count": 16,
   "id": "4931bfd3-a38a-459f-85d4-1338d77b362d",
   "metadata": {},
   "outputs": [
    {
     "data": {
      "text/plain": [
       "(30, 2)"
      ]
     },
     "execution_count": 16,
     "metadata": {},
     "output_type": "execute_result"
    }
   ],
   "source": [
    "meteo_temp.shape"
   ]
  },
  {
   "cell_type": "code",
   "execution_count": 17,
   "id": "c7d2bbae-45d8-4714-866a-8380a2d32ebe",
   "metadata": {},
   "outputs": [],
   "source": [
    "meteo_precip=meteo[[\"date\", \"precipitation\"]]"
   ]
  },
  {
   "cell_type": "code",
   "execution_count": 18,
   "id": "32a92706-81cb-43e7-be82-d9aa8dc7bb71",
   "metadata": {},
   "outputs": [
    {
     "data": {
      "text/plain": [
       "(60, 2)"
      ]
     },
     "execution_count": 18,
     "metadata": {},
     "output_type": "execute_result"
    }
   ],
   "source": [
    "meteo_precip.shape"
   ]
  },
  {
   "cell_type": "code",
   "execution_count": 19,
   "id": "fc0f38fb-f97f-4d74-8258-0a8ce481e48b",
   "metadata": {},
   "outputs": [],
   "source": [
    "meteo_precip = meteo_precip.dropna()"
   ]
  },
  {
   "cell_type": "code",
   "execution_count": 20,
   "id": "8e03ec17-529b-4b61-a818-618cb69c1660",
   "metadata": {},
   "outputs": [
    {
     "data": {
      "text/plain": [
       "(30, 2)"
      ]
     },
     "execution_count": 20,
     "metadata": {},
     "output_type": "execute_result"
    }
   ],
   "source": [
    "meteo_precip.shape"
   ]
  },
  {
   "cell_type": "code",
   "execution_count": 21,
   "id": "6b8e8a70-f1ab-43b9-b527-412511beba60",
   "metadata": {},
   "outputs": [],
   "source": [
    "date1= list(meteo_temp['date'])"
   ]
  },
  {
   "cell_type": "code",
   "execution_count": 22,
   "id": "3b6764de-2ba7-4a48-b873-d2dce2d5983c",
   "metadata": {},
   "outputs": [],
   "source": [
    "date2= list(meteo_precip['date'])"
   ]
  },
  {
   "cell_type": "code",
   "execution_count": 23,
   "id": "1c8ba6f0-4f21-498e-9ffb-18fdbd132871",
   "metadata": {},
   "outputs": [],
   "source": [
    "for i in range(len(date1)):\n",
    "    assert date1[i]==date2[i]"
   ]
  },
  {
   "cell_type": "code",
   "execution_count": 24,
   "id": "421debc2-3719-469e-a5b2-ad0dbe1daaf8",
   "metadata": {},
   "outputs": [],
   "source": [
    "df=meteo_temp.merge(meteo_precip)\n"
   ]
  },
  {
   "cell_type": "code",
   "execution_count": 25,
   "id": "c5136f34-bcd0-4b26-b22a-6dd36e701dbd",
   "metadata": {},
   "outputs": [],
   "source": [
    "df['date'] = [dt.datetime.strptime(d,'%b %d, %Y').date() for d in df['date']]\n",
    "meteo_temp['date'] = [dt.datetime.strptime(d,'%b %d, %Y').date() for d in meteo_temp['date']]\n",
    "meteo_precip['date'] = [dt.datetime.strptime(d,'%b %d, %Y').date() for d in meteo_precip['date']]"
   ]
  },
  {
   "cell_type": "code",
   "execution_count": 26,
   "id": "ba3cefb2-fc5c-41bb-99a9-30f5787e54f8",
   "metadata": {},
   "outputs": [],
   "source": [
    "df=df.set_index('date')"
   ]
  },
  {
   "cell_type": "code",
   "execution_count": 27,
   "id": "44c440cb-9e7d-4acd-8c6c-f84a68b5ec97",
   "metadata": {},
   "outputs": [],
   "source": [
    "#define_dates=[True for i in range(indice.shape[0]) if i<30  or False]\n"
   ]
  },
  {
   "cell_type": "code",
   "execution_count": 28,
   "id": "d6212ed9-7705-4da9-8a2c-ebca4f062f94",
   "metadata": {},
   "outputs": [],
   "source": [
    "#len(define_dates)"
   ]
  },
  {
   "cell_type": "code",
   "execution_count": 29,
   "id": "996c3699-17b5-44d1-b132-0adcd1f950f4",
   "metadata": {},
   "outputs": [],
   "source": [
    "#indice_sub_df=indice_df.iloc[define_dates,:]"
   ]
  },
  {
   "cell_type": "code",
   "execution_count": 30,
   "id": "ecae4d4c-ba53-4657-b4f3-06a5999c6747",
   "metadata": {},
   "outputs": [
    {
     "data": {
      "text/plain": [
       "(30, 2)"
      ]
     },
     "execution_count": 30,
     "metadata": {},
     "output_type": "execute_result"
    }
   ],
   "source": [
    "df.shape"
   ]
  },
  {
   "cell_type": "code",
   "execution_count": 31,
   "id": "bad45b23-dc90-4af0-83f5-5a3116539262",
   "metadata": {},
   "outputs": [
    {
     "data": {
      "text/html": [
       "<div>\n",
       "<style scoped>\n",
       "    .dataframe tbody tr th:only-of-type {\n",
       "        vertical-align: middle;\n",
       "    }\n",
       "\n",
       "    .dataframe tbody tr th {\n",
       "        vertical-align: top;\n",
       "    }\n",
       "\n",
       "    .dataframe thead th {\n",
       "        text-align: right;\n",
       "    }\n",
       "</style>\n",
       "<table border=\"1\" class=\"dataframe\">\n",
       "  <thead>\n",
       "    <tr style=\"text-align: right;\">\n",
       "      <th></th>\n",
       "      <th>temperature</th>\n",
       "      <th>precipitation</th>\n",
       "    </tr>\n",
       "    <tr>\n",
       "      <th>date</th>\n",
       "      <th></th>\n",
       "      <th></th>\n",
       "    </tr>\n",
       "  </thead>\n",
       "  <tbody>\n",
       "    <tr>\n",
       "      <th>2018-01-01</th>\n",
       "      <td>25.713</td>\n",
       "      <td>276.914</td>\n",
       "    </tr>\n",
       "    <tr>\n",
       "      <th>2018-02-01</th>\n",
       "      <td>25.415</td>\n",
       "      <td>313.633</td>\n",
       "    </tr>\n",
       "  </tbody>\n",
       "</table>\n",
       "</div>"
      ],
      "text/plain": [
       "            temperature  precipitation\n",
       "date                                  \n",
       "2018-01-01       25.713        276.914\n",
       "2018-02-01       25.415        313.633"
      ]
     },
     "execution_count": 31,
     "metadata": {},
     "output_type": "execute_result"
    }
   ],
   "source": [
    "df.head(2)"
   ]
  },
  {
   "cell_type": "code",
   "execution_count": 32,
   "id": "204e24a0-2d29-4037-98d0-1d11a13d7c7f",
   "metadata": {},
   "outputs": [
    {
     "name": "stdout",
     "output_type": "stream",
     "text": [
      "['Solarize_Light2', '_classic_test_patch', 'bmh', 'classic', 'dark_background', 'fast', 'fivethirtyeight', 'ggplot', 'grayscale', 'seaborn', 'seaborn-bright', 'seaborn-colorblind', 'seaborn-dark', 'seaborn-dark-palette', 'seaborn-darkgrid', 'seaborn-deep', 'seaborn-muted', 'seaborn-notebook', 'seaborn-paper', 'seaborn-pastel', 'seaborn-poster', 'seaborn-talk', 'seaborn-ticks', 'seaborn-white', 'seaborn-whitegrid', 'tableau-colorblind10']\n"
     ]
    }
   ],
   "source": [
    "plt.style.use(\"tableau-colorblind10\")\n",
    "print(plt.style.available)"
   ]
  },
  {
   "cell_type": "code",
   "execution_count": 33,
   "id": "bb1cd7cc-0d36-4dd2-8050-5b0c82b2b391",
   "metadata": {},
   "outputs": [
    {
     "data": {
      "image/png": "[encoded data removed]",
      "text/plain": [
       "<Figure size 432x288 with 1 Axes>"
      ]
     },
     "metadata": {
      "needs_background": "light"
     },
     "output_type": "display_data"
    }
   ],
   "source": [
    "axe=df.plot()"
   ]
  },
  {
   "cell_type": "code",
   "execution_count": 34,
   "id": "8b63722e-c95b-45ba-9c94-cad0a9257698",
   "metadata": {},
   "outputs": [
    {
     "data": {
      "text/html": [
       "<div>\n",
       "<style scoped>\n",
       "    .dataframe tbody tr th:only-of-type {\n",
       "        vertical-align: middle;\n",
       "    }\n",
       "\n",
       "    .dataframe tbody tr th {\n",
       "        vertical-align: top;\n",
       "    }\n",
       "\n",
       "    .dataframe thead th {\n",
       "        text-align: right;\n",
       "    }\n",
       "</style>\n",
       "<table border=\"1\" class=\"dataframe\">\n",
       "  <thead>\n",
       "    <tr style=\"text-align: right;\">\n",
       "      <th></th>\n",
       "      <th>temperature</th>\n",
       "      <th>precipitation</th>\n",
       "    </tr>\n",
       "  </thead>\n",
       "  <tbody>\n",
       "    <tr>\n",
       "      <th>count</th>\n",
       "      <td>30.000000</td>\n",
       "      <td>30.000000</td>\n",
       "    </tr>\n",
       "    <tr>\n",
       "      <th>mean</th>\n",
       "      <td>26.454400</td>\n",
       "      <td>247.071800</td>\n",
       "    </tr>\n",
       "    <tr>\n",
       "      <th>std</th>\n",
       "      <td>0.614265</td>\n",
       "      <td>193.447443</td>\n",
       "    </tr>\n",
       "    <tr>\n",
       "      <th>min</th>\n",
       "      <td>25.415000</td>\n",
       "      <td>35.058000</td>\n",
       "    </tr>\n",
       "    <tr>\n",
       "      <th>25%</th>\n",
       "      <td>26.035750</td>\n",
       "      <td>93.229750</td>\n",
       "    </tr>\n",
       "    <tr>\n",
       "      <th>50%</th>\n",
       "      <td>26.345000</td>\n",
       "      <td>184.333500</td>\n",
       "    </tr>\n",
       "    <tr>\n",
       "      <th>75%</th>\n",
       "      <td>26.767250</td>\n",
       "      <td>370.246500</td>\n",
       "    </tr>\n",
       "    <tr>\n",
       "      <th>max</th>\n",
       "      <td>27.630000</td>\n",
       "      <td>769.715000</td>\n",
       "    </tr>\n",
       "  </tbody>\n",
       "</table>\n",
       "</div>"
      ],
      "text/plain": [
       "       temperature  precipitation\n",
       "count    30.000000      30.000000\n",
       "mean     26.454400     247.071800\n",
       "std       0.614265     193.447443\n",
       "min      25.415000      35.058000\n",
       "25%      26.035750      93.229750\n",
       "50%      26.345000     184.333500\n",
       "75%      26.767250     370.246500\n",
       "max      27.630000     769.715000"
      ]
     },
     "execution_count": 34,
     "metadata": {},
     "output_type": "execute_result"
    }
   ],
   "source": [
    "meteo.describe()"
   ]
  },
  {
   "cell_type": "code",
   "execution_count": null,
   "id": "994ae4ec-9f5d-45e3-82f8-c9481f974998",
   "metadata": {},
   "outputs": [],
   "source": []
  },
  {
   "cell_type": "code",
   "execution_count": null,
   "id": "2989e17c-1d89-4502-9f2e-91cc0377855f",
   "metadata": {},
   "outputs": [],
   "source": []
  },
  {
   "cell_type": "code",
   "execution_count": 35,
   "id": "1ed9df79-934c-47aa-846b-7de177fea5ac",
   "metadata": {},
   "outputs": [
    {
     "name": "stdout",
     "output_type": "stream",
     "text": [
      "<class 'pandas.core.frame.DataFrame'>\n",
      "RangeIndex: 60 entries, 0 to 59\n",
      "Data columns (total 3 columns):\n",
      " #   Column         Non-Null Count  Dtype  \n",
      "---  ------         --------------  -----  \n",
      " 0   date           60 non-null     object \n",
      " 1   temperature    30 non-null     float64\n",
      " 2   precipitation  30 non-null     float64\n",
      "dtypes: float64(2), object(1)\n",
      "memory usage: 1.5+ KB\n"
     ]
    }
   ],
   "source": [
    "meteo.info()"
   ]
  },
  {
   "cell_type": "code",
   "execution_count": 52,
   "id": "d1412ec8-7c3a-4ec5-ae59-abd5c37f2cca",
   "metadata": {},
   "outputs": [],
   "source": [
    "# ------------- Plot the indexes ----------\n",
    "#Initialize plot and parameters\n",
    "sns.set(rc={'figure.figsize':(16,6)})\n",
    "#sns.set_context('paper')\n",
    "\n",
    "#Plot colors\n",
    "prec_color = 'cornflowerblue'\n",
    "temp_color = 'fuchsia'\n"
   ]
  },
  {
   "cell_type": "code",
   "execution_count": 54,
   "id": "bcb30a0d-af28-4fe5-aff7-a75384dd0c01",
   "metadata": {},
   "outputs": [
    {
     "data": {
      "image/png": "[encoded data removed]",
      "text/plain": [
       "<Figure size 1152x432 with 3 Axes>"
      ]
     },
     "metadata": {},
     "output_type": "display_data"
    }
   ],
   "source": [
    "#Create the figure with a date x-axis\n",
    "plt.style.use(\"tableau-colorblind10\")\n",
    "fig,ax = plt.subplots(2,1, sharex=True)\n",
    "\n",
    "\n",
    "plt.gca().xaxis.set_major_formatter(mdates.DateFormatter('%Y_%b'))\n",
    "plt.gca().xaxis.set_major_locator(mdates.DayLocator(interval = 60))\n",
    "#ax.set_xlim(dt.date(2017,12,1),dt.date(2020,2,1))\n",
    "ax[1].set_xlim(df.index.min(),df.index.max())\n",
    "\n",
    "\n",
    "\n",
    "#Plot precipitation\n",
    "ax2 = ax[1].twinx()\n",
    "\n",
    "\n",
    "p_prec = ax2.bar(meteo_precip['date'],meteo_precip['precipitation'], width = 20, alpha = .75, color = prec_color,label = 'precipation(mm)')\n",
    "ax2.set_ylim(0,770)\n",
    "ax2.grid(False)\n",
    "ax2.set_ylabel('Monthly total precipitation (mm)',fontsize = 12)\n",
    "ax2.spines['right'].set_color(prec_color)\n",
    "ax2.tick_params(axis='y', colors = prec_color)\n",
    "ax2.yaxis.label.set_color(prec_color)\n",
    "\n",
    "#Plot temperature\n",
    "p_temp = ax[1].plot(meteo_temp['date'],meteo_temp['temperature'],'-',color =temp_color,label = 'T (°C)')\n",
    "ax2.spines['left'].set_color(temp_color)\n",
    "ax[1].tick_params(axis='y',colors = temp_color)\n",
    "ax[1].yaxis.label.set_color(temp_color)\n",
    "ax[1].set_ylabel('Monthly mean temperature (°C)', fontsize = 12)\n",
    "#ax[1].yaxis.tick_right()\n",
    "\n",
    "\n",
    "ax[0].plot(indice['date'],indice['NDVI'],'o-',linewidth = 2, color='limegreen',label='NDVI')\n",
    "ax[0].plot(indice['date'],indice['NDWI'],'o-',linewidth = 2, color='forestgreen',label='NDWI')\n",
    "#ax[0].set_xlabel('Date',fontsize=12)\n",
    "ax[0].set_ylabel('NDVI, NDWI, EVI and ARVI',fontsize=12)\n",
    "ax[0].set_title('Indices, temperature and precipitations in Guadeloupe for the period 2018-2020',fontsize = 14)\n",
    "\n",
    "ax[0].plot(indice['date'],indice['EVI'],'o-',linewidth = 2, color = 'steelblue', label ='EVI')\n",
    "#ax.set_ylabel('EVI')\n",
    "\n",
    "ax[0].plot(indice['date'],indice['ARVI'],'o-',linewidth = 2, color = 'orange', label ='ARVI')\n",
    "#ax.set_ylabel('ARVI')\n",
    "ax[0].legend(loc = 'upper right')\n",
    "\n",
    "\n",
    "ax[1].set_xlabel('Date',fontsize = 12)\n",
    "plt.savefig('temp_prec.png',dpi=250,bbox_inches = 'tight')\n"
   ]
  },
  {
   "cell_type": "code",
   "execution_count": null,
   "id": "14f32ce2-f087-48c3-aff0-960cfaa2dad4",
   "metadata": {},
   "outputs": [],
   "source": []
  },
  {
   "cell_type": "code",
   "execution_count": 38,
   "id": "4413c667-d7d6-4305-9457-a26dc502c5c8",
   "metadata": {},
   "outputs": [],
   "source": [
    "#meteo_temp = meteo_temp.set_index('date')\n",
    "#meteo_precip = meteo_precip.set_index('date')"
   ]
  },
  {
   "cell_type": "code",
   "execution_count": 39,
   "id": "cf907ffb-f2cd-4129-8e11-ef536398eb1a",
   "metadata": {},
   "outputs": [],
   "source": [
    "#meteo_temp.index.min()"
   ]
  },
  {
   "cell_type": "code",
   "execution_count": 40,
   "id": "0811893b-8e74-4975-9226-f5914d76d0eb",
   "metadata": {},
   "outputs": [],
   "source": [
    "#meteo_precip.head()"
   ]
  },
  {
   "cell_type": "code",
   "execution_count": 41,
   "id": "6a1bb573-3848-4cf5-a54a-91a35aa50713",
   "metadata": {},
   "outputs": [
    {
     "data": {
      "text/plain": [
       "58"
      ]
     },
     "execution_count": 41,
     "metadata": {},
     "output_type": "execute_result"
    }
   ],
   "source": [
    "meteo_temp.index.max()"
   ]
  },
  {
   "cell_type": "code",
   "execution_count": 42,
   "id": "5c302696-6aeb-41f6-991c-96a5de785f1a",
   "metadata": {},
   "outputs": [
    {
     "data": {
      "text/html": [
       "<div>\n",
       "<style scoped>\n",
       "    .dataframe tbody tr th:only-of-type {\n",
       "        vertical-align: middle;\n",
       "    }\n",
       "\n",
       "    .dataframe tbody tr th {\n",
       "        vertical-align: top;\n",
       "    }\n",
       "\n",
       "    .dataframe thead th {\n",
       "        text-align: right;\n",
       "    }\n",
       "</style>\n",
       "<table border=\"1\" class=\"dataframe\">\n",
       "  <thead>\n",
       "    <tr style=\"text-align: right;\">\n",
       "      <th></th>\n",
       "      <th>date</th>\n",
       "      <th>temperature</th>\n",
       "    </tr>\n",
       "  </thead>\n",
       "  <tbody>\n",
       "    <tr>\n",
       "      <th>0</th>\n",
       "      <td>2018-01-01</td>\n",
       "      <td>25.713</td>\n",
       "    </tr>\n",
       "    <tr>\n",
       "      <th>2</th>\n",
       "      <td>2018-02-01</td>\n",
       "      <td>25.415</td>\n",
       "    </tr>\n",
       "    <tr>\n",
       "      <th>4</th>\n",
       "      <td>2018-03-01</td>\n",
       "      <td>26.098</td>\n",
       "    </tr>\n",
       "    <tr>\n",
       "      <th>6</th>\n",
       "      <td>2018-04-01</td>\n",
       "      <td>26.015</td>\n",
       "    </tr>\n",
       "    <tr>\n",
       "      <th>8</th>\n",
       "      <td>2018-05-01</td>\n",
       "      <td>25.896</td>\n",
       "    </tr>\n",
       "  </tbody>\n",
       "</table>\n",
       "</div>"
      ],
      "text/plain": [
       "         date  temperature\n",
       "0  2018-01-01       25.713\n",
       "2  2018-02-01       25.415\n",
       "4  2018-03-01       26.098\n",
       "6  2018-04-01       26.015\n",
       "8  2018-05-01       25.896"
      ]
     },
     "execution_count": 42,
     "metadata": {},
     "output_type": "execute_result"
    }
   ],
   "source": [
    "meteo_temp.head()"
   ]
  },
  {
   "cell_type": "code",
   "execution_count": 43,
   "id": "af910c6c-bde5-498f-aad0-f1d3b7c84dd3",
   "metadata": {},
   "outputs": [
    {
     "data": {
      "image/png": "[encoded data removed]",
      "text/plain": [
       "<Figure size 1152x432 with 8 Axes>"
      ]
     },
     "metadata": {},
     "output_type": "display_data"
    }
   ],
   "source": [
    "# correlation\n",
    "fig1,ax1=plt.subplots(2, 4, figsize=(16,6), sharex= False, sharey= True )\n",
    "fig1.tight_layout(pad=3.0)\n",
    "fig1.suptitle(\"Correlation: Precipitation/Temperature versus indices\", fontsize = 14, y=1.05)\n",
    "\n",
    "precipitation_list = list(meteo_precip[\"precipitation\"])\n",
    "temperature_list = list(meteo_temp[\"temperature\"])\n",
    "ndvi_list = list(indice[\"NDVI\"])\n",
    "ndwi_list = list(indice[\"NDWI\"])\n",
    "evi_list = list(indice[\"EVI\"])\n",
    "arvi_list = list(indice[\"ARVI\"])\n",
    "\n",
    "#Precipitation\n",
    "_= ax1[0,0].scatter(precipitation_list, ndvi_list)\n",
    "ax1[0,0].set_title('Precipitations vs NDVI',fontsize = 12)\n",
    "\n",
    "ax1[0,1].scatter(precipitation_list, ndwi_list)\n",
    "ax1[0,1].set_title('Precipitations vs NDWI',fontsize = 12)\n",
    "\n",
    "ax1[0,2].scatter(precipitation_list, evi_list)\n",
    "ax1[0,2].set_title('Precipitations vs EVI',fontsize = 12)\n",
    "\n",
    "ax1[0,3].scatter(precipitation_list, arvi_list)\n",
    "ax1[0,3].set_title('Precipitations vs ARVI',fontsize = 12)\n",
    "\n",
    "#Temperature\n",
    "color=\"#11ccee\"\n",
    "_= ax1[1,0].scatter(temperature_list, ndvi_list, c=color)\n",
    "ax1[1,0].set_title('Temperature vs NDVI',fontsize = 12)\n",
    "\n",
    "ax1[1,1].scatter(temperature_list, ndwi_list, c=color)\n",
    "ax1[1,1].set_title('Temperature vs NDWI',fontsize = 12)\n",
    "\n",
    "ax1[1,2].scatter(temperature_list, evi_list, c=color)\n",
    "ax1[1,2].set_title('Temperature vs EVI',fontsize = 12)\n",
    "\n",
    "ax1[1,3].scatter(temperature_list, arvi_list, c=color)\n",
    "ax1[1,3].set_title('Temperature vs ARVI',fontsize = 12)\n",
    "plt.savefig('CorrelationGraph.png',dpi=250,bbox_inches = 'tight')"
   ]
  },
  {
   "cell_type": "code",
   "execution_count": 44,
   "id": "7a445838-3f28-4226-a106-948b903394d4",
   "metadata": {},
   "outputs": [],
   "source": [
    "corr_precip_ndvi,_=pr(precipitation_list, ndvi_list)"
   ]
  },
  {
   "cell_type": "code",
   "execution_count": 45,
   "id": "6d5d4fcb-5cb2-42f0-b571-a54ddb4bb931",
   "metadata": {},
   "outputs": [
    {
     "name": "stdout",
     "output_type": "stream",
     "text": [
      "correlation between precipitation and ndvi: -0.574\n"
     ]
    }
   ],
   "source": [
    "corr_precip_ndvi\n",
    "print(\"correlation between precipitation and ndvi: %.3f\" % corr_precip_ndvi)"
   ]
  },
  {
   "cell_type": "code",
   "execution_count": 46,
   "id": "46196ef8-0f98-4221-b771-6428f278cc6e",
   "metadata": {},
   "outputs": [],
   "source": [
    "corr_temp_ndvi,_=pr(temperature_list, ndvi_list)"
   ]
  },
  {
   "cell_type": "code",
   "execution_count": 47,
   "id": "1addfa28-0935-4cf7-b68c-db11578e56c9",
   "metadata": {},
   "outputs": [
    {
     "data": {
      "text/plain": [
       "0.5504825659930372"
      ]
     },
     "execution_count": 47,
     "metadata": {},
     "output_type": "execute_result"
    }
   ],
   "source": [
    "corr_temp_ndvi"
   ]
  },
  {
   "cell_type": "code",
   "execution_count": 48,
   "id": "6145852b-9c92-4224-ab11-33263bde1533",
   "metadata": {},
   "outputs": [
    {
     "data": {
      "text/plain": [
       "0.6318570340830695"
      ]
     },
     "execution_count": 48,
     "metadata": {},
     "output_type": "execute_result"
    }
   ],
   "source": [
    "corr_temp_evi,_=pr(temperature_list, evi_list)\n",
    "corr_temp_evi"
   ]
  },
  {
   "cell_type": "code",
   "execution_count": 49,
   "id": "e45978f1-beb4-457d-b0ae-87fe88501843",
   "metadata": {},
   "outputs": [],
   "source": [
    "#ndvi_list"
   ]
  },
  {
   "cell_type": "code",
   "execution_count": 50,
   "id": "550b2336-b000-4a49-aaec-5f9ed3a51682",
   "metadata": {},
   "outputs": [],
   "source": [
    "#precipitation_list"
   ]
  },
  {
   "cell_type": "code",
   "execution_count": null,
   "id": "c83f2314-cc7e-4dba-9b9d-538523a035eb",
   "metadata": {},
   "outputs": [],
   "source": []
  }
 ],
 "metadata": {
  "kernelspec": {
   "display_name": "Python 3",
   "language": "python",
   "name": "python3"
  },
  "language_info": {
   "codemirror_mode": {
    "name": "ipython",
    "version": 3
   },
   "file_extension": ".py",
   "mimetype": "text/x-python",
   "name": "python",
   "nbconvert_exporter": "python",
   "pygments_lexer": "ipython3",
   "version": "3.8.3"
  }
 },
 "nbformat": 4,
 "nbformat_minor": 5
}
